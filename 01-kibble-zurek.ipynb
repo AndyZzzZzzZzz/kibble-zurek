{
 "cells": [
  {
   "cell_type": "markdown",
   "id": "75fc25d0-bc95-4c05-9d65-6d76daa61838",
   "metadata": {},
   "source": [
    "# Simulating the Kibble-Zurek Mechanism on a Quantum Computer\n",
    "\n",
    "This notebook demonstrates the use of a quantum computer for ... . It has the following sections:\n",
    "\n",
    "1. [The Kibble-Zurek Mechanism](#The-Kibble-Zurek-Mechanism) describes.\n",
    "2. \n",
    "\n",
    "## The Kibble-Zurek Mechanism\n",
    "\n",
    "The [[1]](#1) Nature paper\n",
    "\n",
    "<img src=\"_static/temp1_kz_overview.png\" width=\"500\">\n",
    "\n",
    "\n",
    "## References\n",
    "\n",
    "<a name=\"1\">[1]</a> King, A.D., Suzuki, S., Raymond, J. et al. \n",
    "Coherent quantum annealing in a programmable 2,000 qubit Ising chain. \n",
    "Nat. Phys. 18, 1324–1328 (2022). https://doi.org/10.1038/s41567-022-01741-6\n"
   ]
  },
  {
   "cell_type": "code",
   "execution_count": null,
   "id": "dbedf5e0-2ca0-4a64-8a36-1e147c2bf3d4",
   "metadata": {},
   "outputs": [],
   "source": []
  },
  {
   "cell_type": "markdown",
   "id": "d5bffa59",
   "metadata": {},
   "source": [
    "Copyright &copy; 2024 D-Wave Systems, Inc\n",
    "\n",
    "The software is licensed under the Apache License, Version 2.0 (the \"License\");\n",
    "you may not use this file except in compliance with the License.\n",
    "You may obtain a copy of the License at\n",
    "\n",
    "    http://www.apache.org/licenses/LICENSE-2.0\n",
    "\n",
    "Unless required by applicable law or agreed to in writing, software\n",
    "distributed under the License is distributed on an \"AS IS\" BASIS,\n",
    "WITHOUT WARRANTIES OR CONDITIONS OF ANY KIND, either express or implied.\n",
    "See the License for the specific language governing permissions and\n",
    "limitations under the License.\n",
    "\n",
    "<a rel=\"license\" href=\"http://creativecommons.org/licenses/by-nc-sa/4.0/\"><img alt=\"Creative Commons License\" style=\"border-width:0\" src=\"https://i.creativecommons.org/l/by-nc-sa/4.0/88x31.png\" /></a><br />This Jupyter Notebook is licensed under a <a rel=\"license\" href=\"http://creativecommons.org/licenses/by-nc-sa/4.0/\">Creative Commons Attribution-NonCommercial-ShareAlike 4.0 International License</a>"
   ]
  }
 ],
 "metadata": {
  "kernelspec": {
   "display_name": "Python 3 (ipykernel)",
   "language": "python",
   "name": "python3"
  },
  "language_info": {
   "codemirror_mode": {
    "name": "ipython",
    "version": 3
   },
   "file_extension": ".py",
   "mimetype": "text/x-python",
   "name": "python",
   "nbconvert_exporter": "python",
   "pygments_lexer": "ipython3",
   "version": "3.10.2"
  }
 },
 "nbformat": 4,
 "nbformat_minor": 5
}

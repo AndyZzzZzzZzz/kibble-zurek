{
 "cells": [
  {
   "cell_type": "markdown",
   "id": "75fc25d0-bc95-4c05-9d65-6d76daa61838",
   "metadata": {},
   "source": [
    "# Simulating the Kibble-Zurek Mechanism on a Quantum Computer\n",
    "\n",
    "This notebook demonstrates the use of a quantum computer for ... . It has the following sections:\n",
    "\n",
    "1. [The Kibble-Zurek Mechanism](#The-Kibble-Zurek-Mechanism) describes.\n",
    "2. \n",
    "\n",
    "## The Kibble-Zurek Mechanism\n",
    "\n",
    "The [[1]](#1) Nature paper\n",
    "\n",
    "<img src=\"_static/temp1_kz_overview.png\" width=\"500\">\n",
    "\n",
    "<img src=\"_static/tmp_coherent.png\" width=\"800\">\n",
    "\n",
    "## References\n",
    "\n",
    "<a name=\"1\">[1]</a> King, A.D., Suzuki, S., Raymond, J. et al. \n",
    "Coherent quantum annealing in a programmable 2,000 qubit Ising chain. \n",
    "Nat. Phys. 18, 1324–1328 (2022). https://doi.org/10.1038/s41567-022-01741-6\n"
   ]
  },
  {
   "cell_type": "code",
   "execution_count": null,
   "id": "85332a50",
   "metadata": {},
   "outputs": [],
   "source": [
    "from dwave.system import DWaveSampler\n",
    "\n",
    "# TO BE UPDATED: \n",
    "#sampler = DWaveSampler(solver={'topology__type': 'zephyr'})\n",
    "sampler = DWaveSampler(solver=\"Advantage2_prototype2_...\")\n",
    "print(sampler.solver.name)"
   ]
  },
  {
   "cell_type": "code",
   "execution_count": null,
   "id": "634ab7da",
   "metadata": {},
   "outputs": [],
   "source": [
    "import minorminer\n",
    "from helpers.qa import create_bqm, find_one_to_one_embedding\n",
    "\n",
    "ising_chain_length = 500\n",
    "\n",
    "embedding = find_one_to_one_embedding(ising_chain_length, sampler.edgelist)"
   ]
  },
  {
   "cell_type": "code",
   "execution_count": null,
   "id": "292f871e",
   "metadata": {},
   "outputs": [],
   "source": [
    "from dwave.system import FixedEmbeddingComposite\n",
    "# For now define a `placeholder_submission_if` until a formal API exists for such short anneal times\n"
   ]
  },
  {
   "cell_type": "code",
   "execution_count": null,
   "id": "665af37a",
   "metadata": {},
   "outputs": [],
   "source": [
    "times1 = [t for t in range(5, 10, 1)]       # First log section\n",
    "times2 = [t for t in range(10, 100, 10)]    # second\n",
    "times3 = [t for t in range(100, 1000, 200)] # third\n",
    "anneal_times = times1 + times2 +times3\n",
    "\n",
    "Js = [0.12, -0.7, -1.4]\n",
    "\n",
    "qpu_params = {'sampler': sampler, 'embedding': embedding, 'num_reads': 5000}\n",
    "sampleset = {}\n",
    "for J in Js:    \n",
    "\n",
    "    bqm = create_bqm(ising_chain_length, J)\n",
    "    \n",
    "    for ta in anneal_times:\n",
    "\n",
    "        qpu_params['bqm'] = bqm\n",
    "        qpu_params['label'] = f'example - Kibble-Zurek - J: {J} & t_a: {ta} ns'\n",
    "        qpu_params['anneal_time'] = 0.001*ta\n",
    "\n",
    "        sampleset[(J, ta)] = placeholder_submission_if(qpu_params)"
   ]
  },
  {
   "cell_type": "code",
   "execution_count": null,
   "id": "e79183bb",
   "metadata": {},
   "outputs": [],
   "source": [
    "from helpers.kb_calcs import avg_kink_density\n",
    "\n",
    "kink_densities = {}\n",
    "for key, samples in sampleset.items():\n",
    "    kink_densities[key] = avg_kink_density(samples, key[0])"
   ]
  },
  {
   "cell_type": "code",
   "execution_count": null,
   "id": "59e9ffa1",
   "metadata": {},
   "outputs": [],
   "source": [
    "from helpers.plots import plot_kink_densities\n",
    "\n",
    "plot_kink_densities(kink_densities, Js)"
   ]
  },
  {
   "cell_type": "markdown",
   "id": "1e8d044b",
   "metadata": {},
   "source": [
    "TEST FIELD"
   ]
  },
  {
   "cell_type": "code",
   "execution_count": null,
   "id": "fc99bbfa",
   "metadata": {},
   "outputs": [],
   "source": [
    "import pandas as pd\n",
    "import numpy as np\n",
    "\n",
    "schedule = pd.read_csv('helpers/09-1302A-B_Advantage2_prototype2.2_annealing_schedule.csv')\n",
    "\n",
    "A = schedule['A(s) (GHz)']\n",
    "B1 = schedule['B(s) (GHz)']         # B for J=1 ? \n",
    "C = schedule['C (normalized)']\n",
    "\n",
    "def theoretical_kink_density(annealing_times_ns, J):\n",
    "    \"\"\"\n",
    "    Calculate the coherent-theory kink density for the coupling strength & annealing times. \n",
    "\n",
    "    Args:\n",
    "        annealing_times_ns: iterable of annealing times in nanoseconds\n",
    "\n",
    "        J: Coupling strength\n",
    "\n",
    "    Returns:\n",
    "        n(ta).  \n",
    "    \"\"\"\n",
    "    B = B1*J\n",
    "    A_tag = A.diff()/C.diff()\n",
    "    B_tag = B.diff()/C.diff()\n",
    "\n",
    "    sc_indx = abs(A - B).idxmin()\n",
    "\n",
    "    b_top = (A[sc_indx]*1e9)*2*np.pi\n",
    "    b_bottom = (B_tag[sc_indx]/B[sc_indx]) - (A_tag[sc_indx]/A[sc_indx])\n",
    "    b = b_top/b_bottom\n",
    "\n",
    "    return np.power([t*1e-9 for t in annealing_times_ns], -0.5)/(2*np.pi*np.sqrt(2*b))\n",
    "\n",
    "print(theoretical_kink_density([5], 1))\n",
    "print(theoretical_kink_density([5], -1))\n",
    "print(theoretical_kink_density([5], 0.01))\n",
    "print(theoretical_kink_density([5], -0.01))\n"
   ]
  },
  {
   "cell_type": "markdown",
   "id": "d5bffa59",
   "metadata": {},
   "source": [
    "Copyright &copy; 2024 D-Wave Systems, Inc\n",
    "\n",
    "The software is licensed under the Apache License, Version 2.0 (the \"License\");\n",
    "you may not use this file except in compliance with the License.\n",
    "You may obtain a copy of the License at\n",
    "\n",
    "    http://www.apache.org/licenses/LICENSE-2.0\n",
    "\n",
    "Unless required by applicable law or agreed to in writing, software\n",
    "distributed under the License is distributed on an \"AS IS\" BASIS,\n",
    "WITHOUT WARRANTIES OR CONDITIONS OF ANY KIND, either express or implied.\n",
    "See the License for the specific language governing permissions and\n",
    "limitations under the License.\n",
    "\n",
    "<a rel=\"license\" href=\"http://creativecommons.org/licenses/by-nc-sa/4.0/\"><img alt=\"Creative Commons License\" style=\"border-width:0\" src=\"https://i.creativecommons.org/l/by-nc-sa/4.0/88x31.png\" /></a><br />This Jupyter Notebook is licensed under a <a rel=\"license\" href=\"http://creativecommons.org/licenses/by-nc-sa/4.0/\">Creative Commons Attribution-NonCommercial-ShareAlike 4.0 International License</a>"
   ]
  }
 ],
 "metadata": {
  "kernelspec": {
   "display_name": "Python 3 (ipykernel)",
   "language": "python",
   "name": "python3"
  },
  "language_info": {
   "codemirror_mode": {
    "name": "ipython",
    "version": 3
   },
   "file_extension": ".py",
   "mimetype": "text/x-python",
   "name": "python",
   "nbconvert_exporter": "python",
   "pygments_lexer": "ipython3",
   "version": "3.10.2"
  }
 },
 "nbformat": 4,
 "nbformat_minor": 5
}
